{
 "cells": [
  {
   "cell_type": "markdown",
   "metadata": {},
   "source": [
    "# ECN-142 Course Project\n",
    "Simulation of Long channel MOSFET in iPython notebook"
   ]
  },
  {
   "cell_type": "markdown",
   "metadata": {},
   "source": [
    "## Problem statement\n",
    "\n",
    "Plot the value of electric field as a function of distance from source (towards drain) of an n-channel MOSFET with Vg = 4V$_{th}$ and Vd = 0.5V$_{th}$ and Vs = 0. First obtain the value of I$_{d}$. Divide the channel length into sections of ΔL length. Obtain the values of Q$_{d}$, Q$_{i}$ , transverse electric field Ex and longitudinal electric field E$_{y}$ at the source-edge of the channel (y = 0). Consider the values of E$_{x}$ and E$_{y}$ to be constants within each section ΔL. Now, obtain the values of Q$_{d}$, Q$_{i}$, E$_{x}$ and E$_{y}$ at y = ΔL. Keep repeating this process till the you reach V$_{d}$ (the V$_{d}$ = 0.5V$_{th}$ case) or V$_{d}$-sat (the V$_{d}$ = 6V$_{th}$ case). Do your\n",
    "results seem consistent? Do this work in the following two manners:"
   ]
  },
  {
   "cell_type": "markdown",
   "metadata": {},
   "source": [
    "## Import statements"
   ]
  },
  {
   "cell_type": "code",
   "execution_count": 266,
   "metadata": {
    "collapsed": false,
    "scrolled": true
   },
   "outputs": [],
   "source": [
    "%matplotlib inline\n",
    "\n",
    "import matplotlib\n",
    "import numpy as np\n",
    "import matplotlib.pyplot as plt\n",
    "\n",
    "import math\n",
    "import random\n",
    "\n",
    "from __future__ import division"
   ]
  },
  {
   "cell_type": "markdown",
   "metadata": {},
   "source": [
    "## Constant declaration"
   ]
  },
  {
   "cell_type": "code",
   "execution_count": 267,
   "metadata": {
    "collapsed": false
   },
   "outputs": [
    {
     "name": "stdout",
     "output_type": "stream",
     "text": [
      "0.288793969278\n"
     ]
    }
   ],
   "source": [
    "permitivity_free_space = 8.85418782E-14     #cm^-3 kg^-1 s^4 A^2\n",
    "epsilon_Si = 11.9\n",
    "e = 1.6E-19 #C\n",
    "mew = 1500     \n",
    "\n",
    "work_metal=4.6\n",
    "e_a_si=4.05\n",
    "\n",
    "epsilon_ox = 4\n",
    "t_ox = 10E-7 #cm\n",
    "c_ox = epsilon_ox * permitivity_free_space / t_ox\n",
    "\n",
    "#######################################################\n",
    "channel_width = 0.36 # Change it to some sensible value\n",
    "#######################################################\n",
    "channel_length = 5E-4 #cm\n",
    "del_y = 1E-5\n",
    "\n",
    "acceptor_ion_density = 1E15 #cm-3\n",
    "intrinsic_carrier_density = 1.5E10;\n",
    "\n",
    "phi_f = 0.026 * math.log(acceptor_ion_density / intrinsic_carrier_density)\n",
    "band_gap = 1.1 #eV\n",
    "\n",
    "drain_current = 0\n",
    "drain_current_second = 0\n",
    "\n",
    "print phi_f"
   ]
  },
  {
   "cell_type": "markdown",
   "metadata": {},
   "source": [
    "## Calculation of V$_{fb}$ and V$_{th}$"
   ]
  },
  {
   "cell_type": "code",
   "execution_count": 268,
   "metadata": {
    "collapsed": false
   },
   "outputs": [],
   "source": [
    "def flat_band_voltage():\n",
    "    return (work_metal-e_a_si + -1 * ((band_gap / 2) + phi_f))"
   ]
  },
  {
   "cell_type": "code",
   "execution_count": 269,
   "metadata": {
    "collapsed": true
   },
   "outputs": [],
   "source": [
    "def threshold_voltage():\n",
    "    return ((2 * phi_f) + flat_band_voltage() + math.sqrt(2 * phi_f * 2 * e * permitivity_free_space * epsilon_Si * acceptor_ion_density) / c_ox)"
   ]
  },
  {
   "cell_type": "code",
   "execution_count": 270,
   "metadata": {
    "collapsed": false,
    "scrolled": true
   },
   "outputs": [
    {
     "name": "stdout",
     "output_type": "stream",
     "text": [
      "Fermi Energy: 0.288793969278\n",
      "Flatband voltage: -0.288793969278\n",
      "Threshold voltage: 0.328196414249\n",
      "Cox: 3.541675128e-07\n"
     ]
    }
   ],
   "source": [
    "print (\"Fermi Energy: \" + str(phi_f))\n",
    "print (\"Flatband voltage: \" + str(flat_band_voltage()))\n",
    "print (\"Threshold voltage: \" + str(threshold_voltage()))\n",
    "print (\"Cox: \" + str(c_ox))"
   ]
  },
  {
   "cell_type": "markdown",
   "metadata": {},
   "source": [
    "## Calculation of V$_{gs}$, V$_{ds}$, V$_{s}$ &  V$_{dsat}$ "
   ]
  },
  {
   "cell_type": "code",
   "execution_count": 271,
   "metadata": {
    "collapsed": false
   },
   "outputs": [
    {
     "name": "stdout",
     "output_type": "stream",
     "text": [
      "Gate voltage: 1.312785657\n",
      "Drain voltage: 0.164098207125\n",
      "Source voltage: 0\n",
      "Saturation voltage: 0.984589242747\n"
     ]
    }
   ],
   "source": [
    "gate_voltage = 4 * threshold_voltage()\n",
    "drain_voltage = 0.5 * threshold_voltage()\n",
    "voltage_saturation = gate_voltage - threshold_voltage()\n",
    "source_voltage = 0\n",
    "\n",
    "print (\"Gate voltage: \" + str(gate_voltage))\n",
    "print (\"Drain voltage: \" + str(drain_voltage))\n",
    "print (\"Source voltage: \" + str(source_voltage))\n",
    "print (\"Saturation voltage: \" + str(voltage_saturation))"
   ]
  },
  {
   "cell_type": "markdown",
   "metadata": {},
   "source": [
    "## Calculation of I$_{ds}$"
   ]
  },
  {
   "cell_type": "code",
   "execution_count": 272,
   "metadata": {
    "collapsed": false,
    "scrolled": true
   },
   "outputs": [
    {
     "name": "stdout",
     "output_type": "stream",
     "text": [
      "Drain current: 0.0566503814942\n"
     ]
    }
   ],
   "source": [
    "drain_current = (mew * c_ox * channel_width * ((gate_voltage - threshold_voltage()) * drain_voltage - (drain_voltage**2) / 2) / channel_length)\n",
    "print (\"Drain current: \" + str(drain_current))"
   ]
  },
  {
   "cell_type": "markdown",
   "metadata": {},
   "source": [
    "## Calculation of V$_{y}$"
   ]
  },
  {
   "cell_type": "code",
   "execution_count": 273,
   "metadata": {
    "collapsed": true
   },
   "outputs": [],
   "source": [
    "def delta_voltage_y(voltage_y):\n",
    "    numerator = drain_current * del_y\n",
    "    denominator = mew  * c_ox * (gate_voltage - threshold_voltage() - voltage_y)\n",
    "    return 1 * numerator / denominator"
   ]
  },
  {
   "cell_type": "markdown",
   "metadata": {},
   "source": [
    "## Calculation of Q$_{i}$"
   ]
  },
  {
   "cell_type": "code",
   "execution_count": 274,
   "metadata": {
    "collapsed": true
   },
   "outputs": [],
   "source": [
    "def inversion_charge(voltage_y):\n",
    "    return c_ox * (gate_voltage - threshold_voltage() - voltage_y)"
   ]
  },
  {
   "cell_type": "markdown",
   "metadata": {},
   "source": [
    "## Calculation of Q$_{d}$"
   ]
  },
  {
   "cell_type": "code",
   "execution_count": 275,
   "metadata": {
    "collapsed": true
   },
   "outputs": [],
   "source": [
    "def depletion_charge(voltage_y):\n",
    "    return math.sqrt(2 * permitivity_free_space * epsilon_Si * e * acceptor_ion_density * (2 * phi_f + voltage_y))"
   ]
  },
  {
   "cell_type": "markdown",
   "metadata": {},
   "source": [
    "## Calculation of E$_{x}$"
   ]
  },
  {
   "cell_type": "code",
   "execution_count": 276,
   "metadata": {
    "collapsed": true
   },
   "outputs": [],
   "source": [
    "def electric_field_x(voltage_y):\n",
    "    return (inversion_charge(voltage_y) + depletion_charge(voltage_y)) / (permitivity_free_space * epsilon_Si)"
   ]
  },
  {
   "cell_type": "markdown",
   "metadata": {},
   "source": [
    "## Calculation of I$_{d}$ (second method)"
   ]
  },
  {
   "cell_type": "code",
   "execution_count": 281,
   "metadata": {
    "collapsed": false
   },
   "outputs": [
    {
     "name": "stdout",
     "output_type": "stream",
     "text": [
      "0.0583579006357\n"
     ]
    }
   ],
   "source": [
    "first = mew * channel_width * c_ox / channel_length\n",
    "second = (gate_voltage - flat_band_voltage() - 2 * phi_f) * drain_voltage\n",
    "third = -1 * drain_voltage**2 / 2\n",
    "fourth = -2/3 * math.sqrt(2 * e * permitivity_free_space * acceptor_ion_density) / c_ox * ((drain_voltage + 2 * phi_f)**1.5 - (2*phi_f)**1.5)\n",
    "drain_current_second = first * (second + third + fourth)  \n",
    "\n",
    "print drain_current_second"
   ]
  },
  {
   "cell_type": "markdown",
   "metadata": {},
   "source": [
    "## Plot of V$_{y}$"
   ]
  },
  {
   "cell_type": "code",
   "execution_count": 278,
   "metadata": {
    "collapsed": false
   },
   "outputs": [
    {
     "data": {
      "image/png": "[encoded data removed]",
      "text/plain": [
       "<matplotlib.figure.Figure at 0x7fbdea60e990>"
      ]
     },
     "metadata": {},
     "output_type": "display_data"
    },
    {
     "data": {
      "image/png": "[encoded data removed]",
      "text/plain": [
       "<matplotlib.figure.Figure at 0x7fbdea6188d0>"
      ]
     },
     "metadata": {},
     "output_type": "display_data"
    },
    {
     "data": {
      "image/png": "[encoded data removed]",
      "text/plain": [
       "<matplotlib.figure.Figure at 0x7fbdec2be9d0>"
      ]
     },
     "metadata": {},
     "output_type": "display_data"
    },
    {
     "data": {
      "image/png": "[encoded data removed]",
      "text/plain": [
       "<matplotlib.figure.Figure at 0x7fbdec348710>"
      ]
     },
     "metadata": {},
     "output_type": "display_data"
    },
    {
     "data": {
      "image/png": "[encoded data removed]",
      "text/plain": [
       "<matplotlib.figure.Figure at 0x7fbdeaa30c90>"
      ]
     },
     "metadata": {},
     "output_type": "display_data"
    },
    {
     "name": "stdout",
     "output_type": "stream",
     "text": [
      "Number of iterations : 51\n"
     ]
    }
   ],
   "source": [
    "voltage_y_list = []\n",
    "positions = []\n",
    "electric_field_x_list = []\n",
    "electric_field_y_list = []\n",
    "inv_charge_list = []\n",
    "depletion_charge_list = []\n",
    "\n",
    "initial_v_y = 2 * phi_f\n",
    "current_v_y = initial_v_y\n",
    "\n",
    "i = 0\n",
    "\n",
    "#print \"Vy\\t\\tWth\\t\\tdVy\\t\\ty\"\n",
    "while ((current_v_y < (drain_voltage + 2 * phi_f)) and (current_v_y < voltage_saturation) and (i < 100) ):\n",
    "    #print \"1\"\n",
    "    #print str(current_v_y) + \" \" + str(drain_voltage + 2 * phi_f) + \" \" + str(delta_voltage_y(current_v_y)) + \" \" + str(i*del_y)\n",
    "    current_v_y += delta_voltage_y(current_v_y)\n",
    "    voltage_y_list.append(current_v_y)\n",
    "    positions.append(i * del_y)\n",
    "    electric_field_y_list.append(delta_voltage_y(current_v_y) / del_y)\n",
    "    inv_charge_list.append(inversion_charge(current_v_y))\n",
    "    depletion_charge_list.append(depletion_charge(current_v_y))\n",
    "    electric_field_x_list.append(electric_field_x(current_v_y))\n",
    "    i += 1\n",
    "\n",
    "plt.plot(voltage_y_list, positions)\n",
    "plt.xlabel=\"Vy\"\n",
    "plt.show()\n",
    "\n",
    "plt.plot(electric_field_y_list, positions)\n",
    "plt.xlabel=\"Ey\"\n",
    "plt.show()\n",
    "\n",
    "plt.plot(electric_field_x_list, positions)\n",
    "plt.xlabel=\"Ex\"\n",
    "plt.show()\n",
    "\n",
    "plt.plot(inv_charge_list, positions)\n",
    "plt.xlabel=\"Qi\"\n",
    "plt.show()\n",
    "\n",
    "plt.plot(depletion_charge_list, positions)\n",
    "plt.xlabel=\"Qd\"\n",
    "plt.show()\n",
    "\n",
    "print \"Number of iterations : \" + str(i)"
   ]
  },
  {
   "cell_type": "markdown",
   "metadata": {},
   "source": [
    "## Calculation of Q$_{i}$"
   ]
  },
  {
   "cell_type": "code",
   "execution_count": null,
   "metadata": {
    "collapsed": true
   },
   "outputs": [],
   "source": []
  }
 ],
 "metadata": {
  "kernelspec": {
   "display_name": "Python 2",
   "language": "python",
   "name": "python2"
  },
  "language_info": {
   "codemirror_mode": {
    "name": "ipython",
    "version": 2
   },
   "file_extension": ".py",
   "mimetype": "text/x-python",
   "name": "python",
   "nbconvert_exporter": "python",
   "pygments_lexer": "ipython2",
   "version": "2.7.13"
  }
 },
 "nbformat": 4,
 "nbformat_minor": 2
}
